{
 "cells": [
  {
   "cell_type": "code",
   "execution_count": 1,
   "metadata": {},
   "outputs": [
    {
     "name": "stderr",
     "output_type": "stream",
     "text": [
      "/usr/local/lib/python3.6/site-packages/h5py/__init__.py:36: FutureWarning: Conversion of the second argument of issubdtype from `float` to `np.floating` is deprecated. In future, it will be treated as `np.float64 == np.dtype(float).type`.\n",
      "  from ._conv import register_converters as _register_converters\n"
     ]
    }
   ],
   "source": [
    "import numpy as np\n",
    "import tensorflow as tf\n",
    "from sklearn.preprocessing import OneHotEncoder"
   ]
  },
  {
   "cell_type": "code",
   "execution_count": 2,
   "metadata": {},
   "outputs": [],
   "source": [
    "random_seed = 41"
   ]
  },
  {
   "cell_type": "code",
   "execution_count": 3,
   "metadata": {},
   "outputs": [],
   "source": [
    "dataset_size = 100000\n",
    "max_sequence_length = 50"
   ]
  },
  {
   "cell_type": "markdown",
   "metadata": {},
   "source": [
    "## 100,000 Binary Strings of Length 50"
   ]
  },
  {
   "cell_type": "code",
   "execution_count": 4,
   "metadata": {},
   "outputs": [],
   "source": [
    "data1 = np.random.binomial(1, 0.5, (dataset_size, max_sequence_length, 1))\n",
    "labels1 = np.reshape(np.sum(data1, axis=1) % 2, (-1, 1))\n",
    "labels1_one_hot = OneHotEncoder().fit_transform(labels1).toarray()\n",
    "\n",
    "lengths1 = np.ones((dataset_size, 1)) * max_sequence_length"
   ]
  },
  {
   "cell_type": "markdown",
   "metadata": {},
   "source": [
    "## 100,000 Binary Strings of Length Between 1-50"
   ]
  },
  {
   "cell_type": "code",
   "execution_count": 5,
   "metadata": {},
   "outputs": [],
   "source": [
    "data2 = list()\n",
    "labels2 = list()\n",
    "\n",
    "for _ in range(dataset_size):\n",
    "    n = np.random.randint(1, max_sequence_length+1)\n",
    "    data_row = np.random.binomial(1, 0.5, (1, n))\n",
    "    data2.append(data_row)\n",
    "\n",
    "    label_row = np.sum(data_row, axis=1) % 2\n",
    "    labels2.append(label_row)\n",
    "labels2 = np.array(labels2)"
   ]
  },
  {
   "cell_type": "markdown",
   "metadata": {},
   "source": [
    "## Single LSTM Unit"
   ]
  },
  {
   "cell_type": "code",
   "execution_count": 6,
   "metadata": {},
   "outputs": [],
   "source": [
    "lstm_units = 1\n",
    "num_classes = 2"
   ]
  },
  {
   "cell_type": "code",
   "execution_count": 7,
   "metadata": {},
   "outputs": [],
   "source": [
    "class LSTM(object):\n",
    "    \n",
    "    def __init__(self, hidden_units, num_classes=2, max_sequence_length=50, random_seed=41):\n",
    "        self.hidden_units = hidden_units\n",
    "        self.num_classes = num_classes\n",
    "        self.max_sequence_length = max_sequence_length\n",
    "        self.random_seed = random_seed\n",
    "        \n",
    "        self.g = tf.Graph()\n",
    "        with self.g.as_default():\n",
    "            self.X = tf.placeholder(tf.float32, (None, self.max_sequence_length, 1), name='sequences')\n",
    "            self.X_len = tf.placeholder(tf.int32, (None, 1), name='lengths')\n",
    "            self.Y = tf.placeholder(tf.float32, (None, self.num_classes), name='parity_labels')\n",
    "\n",
    "            batch_dim = tf.shape(self.X)[0]\n",
    "            with tf.variable_scope(\"LSTM\"):\n",
    "                tf.set_random_seed(self.random_seed)\n",
    "\n",
    "                cell = tf.contrib.rnn.LSTMCell(self.hidden_units)\n",
    "                initial_state = cell.zero_state(batch_dim, tf.float32)\n",
    "                outputs, state = tf.nn.dynamic_rnn(cell, self.X, initial_state=initial_state, dtype=tf.float32)\n",
    "\n",
    "            # get last output of rnn\n",
    "            indices = self.X_len[-1] - 1\n",
    "            rnn_out = tf.gather(outputs, indices, axis=1)\n",
    "            self.final_rnn_out = tf.reshape(tf.squeeze(rnn_out), (-1, self.hidden_units))\n",
    "\n",
    "            with tf.variable_scope(\"Linear\"):\n",
    "                W = tf.Variable(tf.random_normal((self.hidden_units, self.num_classes), stddev=0.1, seed=self.random_seed))\n",
    "                b = tf.Variable(tf.zeros((self.num_classes)))\n",
    "                self.h = tf.matmul(self.final_rnn_out, W) + b\n",
    "\n",
    "            self.loss = tf.reduce_mean(tf.nn.softmax_cross_entropy_with_logits_v2(logits=self.h, labels=self.Y))\n",
    "            self.train_op = tf.train.AdamOptimizer(0.01).minimize(self.loss)\n",
    "\n",
    "            self.predictions = tf.reshape(tf.squeeze(tf.argmax(self.h, axis=1)), (-1, 1))"
   ]
  },
  {
   "cell_type": "markdown",
   "metadata": {},
   "source": [
    "## Training"
   ]
  },
  {
   "cell_type": "code",
   "execution_count": 8,
   "metadata": {},
   "outputs": [],
   "source": [
    "def train_model(model, epochs=1, batch_size=1, dataset_size=100000):\n",
    "    num_batches = dataset_size//batch_size\n",
    "    \n",
    "    with model.g.as_default():\n",
    "        sess = tf.Session()\n",
    "        init = tf.global_variables_initializer()\n",
    "        sess.run(init)\n",
    "        for t in range(epochs):\n",
    "            print(\"Epoch {}\\n\".format(t+1))\n",
    "            for i in range(0, num_batches, batch_size):\n",
    "                X_batch = data1[i:i+batch_size]\n",
    "                Y_batch = labels1_one_hot[i:i+batch_size]\n",
    "                X_len_batch = lengths1[i:i+batch_size]\n",
    "                _  = sess.run(model.train_op, feed_dict={model.X: X_batch, model.Y: Y_batch, model.X_len: X_len_batch})\n",
    "\n",
    "                if i % 5000 == 0:\n",
    "                    loss_ = sess.run(model.loss, feed_dict={model.X: data1, model.Y: labels1_one_hot, model.X_len: lengths1})\n",
    "                    pred = sess.run(model.predictions, feed_dict={model.X: data1, model.Y: labels1_one_hot, model.X_len: lengths1})\n",
    "                    accuracy = np.mean(pred == labels1)\n",
    "                    print('iteration: {}, loss: {},  accuracy: {}'.format(i+1, loss_, accuracy))"
   ]
  },
  {
   "cell_type": "code",
   "execution_count": 9,
   "metadata": {},
   "outputs": [],
   "source": [
    "single_lstm_unit = LSTM(1)\n",
    "multiple_lstm_units = LSTM(10)\n",
    "k_lstm_units = LSTM(50)"
   ]
  },
  {
   "cell_type": "code",
   "execution_count": null,
   "metadata": {},
   "outputs": [
    {
     "name": "stdout",
     "output_type": "stream",
     "text": [
      "Epoch 1\n",
      "\n",
      "iteration: 1, loss: 0.6932005286216736,  accuracy: 0.49721\n"
     ]
    }
   ],
   "source": [
    "train_model(single_lstm_unit)"
   ]
  },
  {
   "cell_type": "code",
   "execution_count": null,
   "metadata": {},
   "outputs": [],
   "source": [
    "train_model(multiple_lstm_units)"
   ]
  },
  {
   "cell_type": "code",
   "execution_count": null,
   "metadata": {},
   "outputs": [],
   "source": [
    "train_model(k_lstm_units)"
   ]
  },
  {
   "cell_type": "code",
   "execution_count": null,
   "metadata": {},
   "outputs": [],
   "source": []
  }
 ],
 "metadata": {
  "kernelspec": {
   "display_name": "Python 3",
   "language": "python",
   "name": "python3"
  },
  "language_info": {
   "codemirror_mode": {
    "name": "ipython",
    "version": 3
   },
   "file_extension": ".py",
   "mimetype": "text/x-python",
   "name": "python",
   "nbconvert_exporter": "python",
   "pygments_lexer": "ipython3",
   "version": "3.6.2"
  }
 },
 "nbformat": 4,
 "nbformat_minor": 2
}
